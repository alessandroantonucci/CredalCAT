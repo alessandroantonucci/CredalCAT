{
  "nbformat": 4,
  "nbformat_minor": 0,
  "metadata": {
    "colab": {
      "name": "Cat.ipynb",
      "provenance": [],
      "collapsed_sections": [],
      "authorship_tag": "ABX9TyPHmw+I1jEV9Oj3s4L6PbL+",
      "include_colab_link": true
    },
    "kernelspec": {
      "name": "python3",
      "display_name": "Python 3"
    },
    "language_info": {
      "name": "python"
    }
  },
  "cells": [
    {
      "cell_type": "markdown",
      "metadata": {
        "id": "view-in-github",
        "colab_type": "text"
      },
      "source": [
        "<a href=\"https://colab.research.google.com/github/alessandroantonucci/CredalCAT/blob/main/Cat.ipynb\" target=\"_parent\"><img src=\"https://colab.research.google.com/assets/colab-badge.svg\" alt=\"Open In Colab\"/></a>"
      ]
    },
    {
      "cell_type": "markdown",
      "metadata": {
        "id": "iz6wcmjr0nD4"
      },
      "source": [
        "https://colab.research.google.com/drive/1HRnKVskd9rWaj-63e9mBE8KcDBXEdY6w?usp=sharing"
      ]
    },
    {
      "cell_type": "code",
      "metadata": {
        "colab": {
          "base_uri": "https://localhost:8080/"
        },
        "id": "hlDMvbT2a6ko",
        "outputId": "b85aec90-5075-4566-d89e-6f00be123bf3"
      },
      "source": [
        "import numpy as np\n",
        "from math import log\n",
        "from random import random\n",
        "\n",
        "def updater(prior,cpts,questions,answers):\n",
        "  posterior = np.array([prior,1.0-prior])\n",
        "  for (q,a) in zip(questions,answers):\n",
        "    if a == 0: # Q=0\n",
        "      posterior[0] *= (1.0-cpts[q][0]) # P(S=1,Q=0) = P(S=1)*P(Q=0|S=1)\n",
        "      posterior[1] *= (1.0-cpts[q][1]) # P(S=0,Q=0) = P(S=0)*P(Q=0|S=0)\n",
        "    else: # Updating given a correct answer\n",
        "      posterior[0] *= cpts[q][0] # P(S=1,Q=1) = P(S=1)*P(Q=1|S=1)\n",
        "      posterior[1] *= cpts[q][1] # P(S=0,Q=1) = P(S=0)*P(Q=1|S=1)\n",
        "  return posterior/sum(posterior) # P(S|Q=q) \\prop P(S,q)\n",
        "\n",
        "def entropy(x): # Entropy of [p,1-p]\n",
        "    return -(x*log(x,2)+(1-x)*log(1-x,2))\n",
        "\n",
        "def prob_question(p,c):\n",
        "  # p(Q=1) = p(Q=1|S=1)P(S=1)+P(Q=1|S=0)P(S=0)\n",
        "  return c[0]*p+c[1]*(1-p)\n",
        "\n",
        "def expent_scores(p,c,q,a): # expected entropy\n",
        "  scores = [0.0 for _ in range(len(c))]\n",
        "  for i in range(len(c)):\n",
        "    pS = updater(p,c,q,a) # [P(S=1|q=a),P(S=0|q=a)]\n",
        "    p0 = updater(pS[0],c,q+[i],a+[0]) #[P(S=1|Q=0,q=a),P(S=0|Q=0,q=a)]\n",
        "    p1 = updater(pS[0],c,q+[i],a+[1]) #[P(S=1|Q=1,q=a),P(S=0|Q=1,q=a)]\n",
        "    pq = prob_question(pS[0],c[i]) # P(Q=1)\n",
        "    scores[i] = pq*entropy(p1[0])+(1-pq)*entropy(p0[0]) #H[S|Q]\n",
        "  return scores\n",
        "\n",
        "p = 0.5 #P(S=1)\n",
        "tables = [[0.,0.] for _ in range(4)]\n",
        "tables[0] = [0.9, 0.4] #p(Q=1|S=1),P(Q=1|S=0)\n",
        "tables[1] = [0.8, 0.5] \n",
        "tables[2] = [0.9, 0.5] \n",
        "tables[3] = [0.55, 0.25]\n",
        "\n",
        "entropy_star = entropy(0.1)\n",
        "e = 1.0\n",
        "qst = [] # array with the integers denoting the templates of the ansers\n",
        "ans = [] # array with the boolean integers denoting the answers to the questions in qst\n",
        "\n",
        "t = 0\n",
        "for k in range(10):\n",
        "#while e > entropy_star:\n",
        "  posterior = updater(p,tables,qst,ans) #updating given previous answers\n",
        "  picked_question = np.argmax(expent_scores(p,tables,qst,ans)) # picking the best question\n",
        "  past = \"\"\n",
        "  for (q,a) in zip(qst,ans):\n",
        "    past += \"Q\"+str(q)+\"=\"+str(a)+\" \"\n",
        "  print(\"T=%d \\t P(S=1|%s)=%2.4f\" %(t,past,posterior[0])) # logging\n",
        "  qst += [picked_question]\n",
        "  given_answer = 0  \n",
        "  if random()<prob_question(posterior[0],tables[picked_question]): #simulating the answer\n",
        "    given_answer = 1\n",
        "  ans += [given_answer]\n",
        "  posterior = updater(p,tables,qst,ans) #updating given previous answers\n",
        "  e = entropy(posterior[0])\n",
        "  t += 1"
      ],
      "execution_count": 70,
      "outputs": [
        {
          "output_type": "stream",
          "text": [
            "T=0 \t P(S=1|)=0.5000\n",
            "T=1 \t P(S=1|Q3=1 )=0.6875\n",
            "T=2 \t P(S=1|Q3=1 Q3=1 )=0.8288\n",
            "T=3 \t P(S=1|Q3=1 Q3=1 Q1=1 )=0.8856\n",
            "T=4 \t P(S=1|Q3=1 Q3=1 Q1=1 Q0=1 )=0.9457\n",
            "T=5 \t P(S=1|Q3=1 Q3=1 Q1=1 Q0=1 Q1=1 )=0.9654\n",
            "T=6 \t P(S=1|Q3=1 Q3=1 Q1=1 Q0=1 Q1=1 Q3=1 )=0.9840\n",
            "T=7 \t P(S=1|Q3=1 Q3=1 Q1=1 Q0=1 Q1=1 Q3=1 Q3=1 )=0.9926\n",
            "T=8 \t P(S=1|Q3=1 Q3=1 Q1=1 Q0=1 Q1=1 Q3=1 Q3=1 Q3=0 )=0.9878\n",
            "T=9 \t P(S=1|Q3=1 Q3=1 Q1=1 Q0=1 Q1=1 Q3=1 Q3=1 Q3=0 Q3=1 )=0.9944\n"
          ],
          "name": "stdout"
        }
      ]
    },
    {
      "cell_type": "code",
      "metadata": {
        "id": "v-ZA2eDgwlj_"
      },
      "source": [
        ""
      ],
      "execution_count": 54,
      "outputs": []
    }
  ]
}