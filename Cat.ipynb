{
  "nbformat": 4,
  "nbformat_minor": 0,
  "metadata": {
    "colab": {
      "name": "Cat.ipynb",
      "provenance": [],
      "collapsed_sections": [],
      "authorship_tag": "ABX9TyOhb3mejl8H4KXozF78I2GA",
      "include_colab_link": true
    },
    "kernelspec": {
      "name": "python3",
      "display_name": "Python 3"
    },
    "language_info": {
      "name": "python"
    }
  },
  "cells": [
    {
      "cell_type": "markdown",
      "metadata": {
        "id": "view-in-github",
        "colab_type": "text"
      },
      "source": [
        "<a href=\"https://colab.research.google.com/github/alessandroantonucci/CredalCAT/blob/main/Cat.ipynb\" target=\"_parent\"><img src=\"https://colab.research.google.com/assets/colab-badge.svg\" alt=\"Open In Colab\"/></a>"
      ]
    },
    {
      "cell_type": "markdown",
      "metadata": {
        "id": "iz6wcmjr0nD4"
      },
      "source": [
        "https://colab.research.google.com/drive/1HRnKVskd9rWaj-63e9mBE8KcDBXEdY6w?usp=sharing"
      ]
    },
    {
      "cell_type": "code",
      "metadata": {
        "colab": {
          "base_uri": "https://localhost:8080/"
        },
        "id": "hlDMvbT2a6ko",
        "outputId": "a7243369-fc91-4e16-c8ef-b869666804ec"
      },
      "source": [
        "import numpy as np\n",
        "from math import log\n",
        "from random import random\n",
        "\n",
        "def f(x):\n",
        "  return 1.0/(1.0+x)\n",
        "\n",
        "def ld2p(l,d):\n",
        "    return [1.-ll-dd/2.,1.-ll+dd/2.]\n",
        "\n",
        "def updater(prior,cpts,questions,answers):\n",
        "  posterior = np.array([prior,1.0-prior])\n",
        "  for (q,a) in zip(questions,answers):\n",
        "    if a == 0: # Q=0\n",
        "      posterior[0] *= (1.0-cpts[q][0]) # P(S=1,Q=0) = P(S=1)*P(Q=0|S=1)\n",
        "      posterior[1] *= (1.0-cpts[q][1]) # P(S=0,Q=0) = P(S=0)*P(Q=0|S=0)\n",
        "    else: # Updating given a correct answer\n",
        "      posterior[0] *= cpts[q][0] # P(S=1,Q=1) = P(S=1)*P(Q=1|S=1)\n",
        "      posterior[1] *= cpts[q][1] # P(S=0,Q=1) = P(S=0)*P(Q=1|S=1)\n",
        "  return posterior/sum(posterior) # P(S|Q=q) \\prop P(S,q)\n",
        "\n",
        "def c_updater(c_prior,c_cpts,questions,answers):\n",
        "  lp0 = 1.0 # lP(S=0|...)\n",
        "  up0 = 1.0 # uP(S=0|...)\n",
        "  lp1 = 1.0 # lP(S=1|...)\n",
        "  up1 = 1.0 # uP(S=1|...)\n",
        "  for (q,a) in zip(questions,answers):\n",
        "    if a == 0: # Q=0\n",
        "      lp0 *= (1.0-c_cpts[q][0][0])/(1.0-c_cpts[q][1][1]) # upperP(Q=0|S=1)/lowerP(Q=0|S=0)\n",
        "      up0 *= (1.0-c_cpts[q][0][1])/(1.0-c_cpts[q][1][0]) # lowerP(Q=0|S=1)/upperP(Q=0|S=0)\n",
        "      lp1 *= (1.0-c_cpts[q][1][0])/(1.0-c_cpts[q][0][1]) # upperP(Q=0|S=0)/lowerP(Q=0|S=1)\n",
        "      up1 *= (1.0-c_cpts[q][1][1])/(1.0-c_cpts[q][0][0]) # lowerP(Q=0|S=0)/upperP(Q=0|S=1)\n",
        "    else: # Q=1\n",
        "      lp0 *= c_cpts[q][0][0]/c_cpts[q][1][1] # upperP(Q=1|S=1)/lowerP(Q=1|S=0)\n",
        "      up0 *= c_cpts[q][0][1]/c_cpts[q][1][0] # lowerP(Q=1|S=1)/upperP(Q=1|S=0)\n",
        "      lp1 *= c_cpts[q][1][0]/c_cpts[q][0][1] # upperP(Q=1|S=0)/lowerP(Q=1|S=1)\n",
        "      up1 *= c_cpts[q][1][1]/c_cpts[q][0][0] # lowerP(Q=1|S=0)/upperP(Q=1|S=1)\n",
        "  gamma = [0.,0.]\n",
        "  gamma[0] = c_prior[0]/(1.0-c_prior[0])\n",
        "  gamma[1] = c_prior[1]/(1.0-c_prior[1])\n",
        "  lp0 = min(f(gamma[0]*lp0),f(gamma[1]*lp0))\n",
        "  up0 = max(f(gamma[0]*up0),f(gamma[1]*up0))\n",
        "  lp1 = min(f(1.0/gamma[0]*lp1),f(1.0/gamma[1]*lp1))\n",
        "  up1 = max(f(1.0/gamma[0]*up1),f(1.0/gamma[1]*up1))\n",
        "  return [lp1,up1]\n",
        "  \n",
        "def entropy(x): # Entropy of [p,1-p]\n",
        "    return -(x*log(x,2)+(1-x)*log(1-x,2))\n",
        "\n",
        "def prob_question(p,c):\n",
        "  # p(Q=1) = p(Q=1|S=1)P(S=1)+P(Q=1|S=0)P(S=0)\n",
        "  return c[0]*p+c[1]*(1-p)\n",
        "\n",
        "def expent_scores(p,c,q,a): # expected entropy\n",
        "  scores = [0.0 for _ in range(len(c))]\n",
        "  for i in range(len(c)):\n",
        "    pS = updater(p,c,q,a) # [P(S=1|q=a),P(S=0|q=a)]\n",
        "    p0 = updater(pS[0],c,q+[i],a+[0]) #[P(S=1|Q=0,q=a),P(S=0|Q=0,q=a)]\n",
        "    p1 = updater(pS[0],c,q+[i],a+[1]) #[P(S=1|Q=1,q=a),P(S=0|Q=1,q=a)]\n",
        "    pq = prob_question(pS[0],c[i]) # P(Q=1)\n",
        "    scores[i] = pq*entropy(p1[0])+(1-pq)*entropy(p0[0]) #H[S|Q]\n",
        "  return scores\n",
        "\n",
        "p = 0.5 #P(S=1)\n",
        "\n",
        "tables = [[0.,0.] for _ in range(4)]\n",
        "tables[0] = [0.9, 0.4] #p(Q=1|S=1),P(Q=1|S=0)\n",
        "tables[1] = [0.8, 0.5] \n",
        "tables[2] = [0.9, 0.5] \n",
        "tables[3] = [0.55, 0.25]\n",
        "\n",
        "entropy_star = entropy(0.1) # threshold on the entropy\n",
        "e = 1.0 # initialization\n",
        "qst = [] # array with the integers denoting the templates of the ansers\n",
        "ans = [] # array with the boolean integers denoting the answers to the questions in qst\n",
        "\n",
        "# BAYESIAN\n",
        "t = 0\n",
        "for k in range(10):\n",
        "#while e > entropy_star:\n",
        "  posterior = updater(p,tables,qst,ans) #updating given previous answers\n",
        "  picked_question = np.argmax(expent_scores(p,tables,qst,ans)) # picking the best question\n",
        "  past = \"\"\n",
        "  for (q,a) in zip(qst,ans):\n",
        "    past += \"Q\"+str(q)+\"=\"+str(a)+\" \"\n",
        "  print(\"T=%d \\t P(S=1|%s)=%2.4f\" %(t,past,posterior[0])) # logging\n",
        "  qst += [picked_question]\n",
        "  given_answer = 0  \n",
        "  if random()<prob_question(posterior[0],tables[picked_question]): #simulating the answer\n",
        "    given_answer = 1\n",
        "  ans += [given_answer]\n",
        "  posterior = updater(p,tables,qst,ans) #updating given previous answers\n",
        "  e = entropy(posterior[0])\n",
        "  t += 1\n",
        "\n",
        "# CREDAL\n",
        "c_p = [0.4 , 0.55] # [lP(S=1),uP(S=1)]\n",
        "c_tables = [ [[0.,0.],[0.,0.]] for _ in range(4)]\n",
        "c_tables[0] = [[0.89, 0.91],[0.49,0.41]] #[[lp(Q=1|S=1),lp(Q=1|S=1)],[lP(Q=1|S=0),uP(Q=1|S=0)]\n",
        "c_tables[1] = [[0.78, 0.81],[0.45,0.51]]\n",
        "c_tables[2] = [[0.89, 0.91],[0.45,0.51]]\n",
        "c_tables[3] = [[0.54, 0.57],[0.24,0.26]]\n",
        "\n",
        "\n",
        "t = 0\n",
        "qst = [] # array with the integers denoting the templates of the ansers\n",
        "ans = [] # array with the boolean integers denoting the answers to the questions in qst\n",
        "\n",
        "# CREDAL\n",
        "t = 0\n",
        "for k in range(10):\n",
        "#while e > entropy_star:\n",
        "  c_posterior = c_updater(c_p,c_tables,qst,ans) #updating given previous answers\n",
        "  picked_question = np.argmax(expent_scores(p,tables,qst,ans)) # picking the best question\n",
        "  past = \"\"\n",
        "  for (q,a) in zip(qst,ans):\n",
        "    past += \"Q\"+str(q)+\"=\"+str(a)+\" \"\n",
        "  print(\"T=%d \\t P(S=1|%s)=[%2.4f,%2.4f]\" %(t,past,c_posterior[0],c_posterior[1])) # logging\n",
        "  qst += [picked_question]\n",
        "  given_answer = 0  \n",
        "  if random()<prob_question(posterior[0],tables[picked_question]): #simulating the answer\n",
        "    given_answer = 1\n",
        "  ans += [given_answer]\n",
        "  posterior = updater(p,tables,qst,ans) #updating given previous answers\n",
        "  e = entropy(posterior[0])\n",
        "  t += 1"
      ],
      "execution_count": 26,
      "outputs": [
        {
          "output_type": "stream",
          "text": [
            "T=0 \t P(S=1|)=0.5000\n",
            "T=1 \t P(S=1|Q3=0 )=0.3750\n",
            "T=2 \t P(S=1|Q3=0 Q1=1 )=0.4898\n",
            "T=3 \t P(S=1|Q3=0 Q1=1 Q3=0 )=0.3655\n",
            "T=4 \t P(S=1|Q3=0 Q1=1 Q3=0 Q1=0 )=0.1873\n",
            "T=5 \t P(S=1|Q3=0 Q1=1 Q3=0 Q1=0 Q3=1 )=0.3364\n",
            "T=6 \t P(S=1|Q3=0 Q1=1 Q3=0 Q1=0 Q3=1 Q1=0 )=0.1686\n",
            "T=7 \t P(S=1|Q3=0 Q1=1 Q3=0 Q1=0 Q3=1 Q1=0 Q3=0 )=0.1085\n",
            "T=8 \t P(S=1|Q3=0 Q1=1 Q3=0 Q1=0 Q3=1 Q1=0 Q3=0 Q3=1 )=0.2111\n",
            "T=9 \t P(S=1|Q3=0 Q1=1 Q3=0 Q1=0 Q3=1 Q1=0 Q3=0 Q3=1 Q3=0 )=0.1384\n",
            "T=0 \t P(S=1|)=[0.4000,0.5500]\n",
            "T=1 \t P(S=1|Q3=1 )=[0.6129,0.7174]\n",
            "T=2 \t P(S=1|Q3=1 Q3=0 )=[0.4725,0.6121]\n",
            "T=3 \t P(S=1|Q3=1 Q3=0 Q3=0 )=[0.3364,0.4952]\n",
            "T=4 \t P(S=1|Q3=1 Q3=0 Q3=0 Q1=1 )=[0.4771,0.6000]\n",
            "T=5 \t P(S=1|Q3=1 Q3=0 Q3=0 Q1=1 Q3=1 )=[0.6842,0.7570]\n",
            "T=6 \t P(S=1|Q3=1 Q3=0 Q3=0 Q1=1 Q3=1 Q3=1 )=[0.8373,0.8662]\n",
            "T=7 \t P(S=1|Q3=1 Q3=0 Q3=0 Q1=1 Q3=1 Q3=1 Q0=0 )=[0.4759,0.5468]\n",
            "T=8 \t P(S=1|Q3=1 Q3=0 Q3=0 Q1=1 Q3=1 Q3=1 Q0=0 Q3=1 )=[0.6832,0.7148]\n",
            "T=9 \t P(S=1|Q3=1 Q3=0 Q3=0 Q1=1 Q3=1 Q3=1 Q0=0 Q3=1 Q3=1 )=[0.8367,0.8388]\n"
          ],
          "name": "stdout"
        }
      ]
    },
    {
      "cell_type": "code",
      "metadata": {
        "colab": {
          "base_uri": "https://localhost:8080/"
        },
        "id": "eaKfYhAF8tqR",
        "outputId": "dc80c24e-d262-4e11-c950-5ac988ec56bc"
      },
      "source": [
        "for x in range(10):\n",
        "  if x>0:\n",
        "    print(\"p=%2.4f \\t H[p]=%2.4f\"%(x/500.,entropy(x/500.)))"
      ],
      "execution_count": 27,
      "outputs": [
        {
          "output_type": "stream",
          "text": [
            "p=0.0020 \t H[p]=0.0208\n",
            "p=0.0040 \t H[p]=0.0376\n",
            "p=0.0060 \t H[p]=0.0529\n",
            "p=0.0080 \t H[p]=0.0672\n",
            "p=0.0100 \t H[p]=0.0808\n",
            "p=0.0120 \t H[p]=0.0938\n",
            "p=0.0140 \t H[p]=0.1063\n",
            "p=0.0160 \t H[p]=0.1184\n",
            "p=0.0180 \t H[p]=0.1301\n"
          ],
          "name": "stdout"
        }
      ]
    },
    {
      "cell_type": "code",
      "metadata": {
        "colab": {
          "base_uri": "https://localhost:8080/"
        },
        "id": "AvQYQ5tv6udY",
        "outputId": "6fad6bdb-37ec-41a9-fec8-ab01cbd525f9"
      },
      "source": [
        "p = 0.5 #P(S=1)\n",
        "tables = [[0.,0.] for _ in range(2)]\n",
        "tables[0] = [0.9, 0.3] #p(Q=1|S=1),P(Q=1|S=0)\n",
        "tables[1] = [0.6, 0.4] \n",
        "print('P(S=1|Q0=0,Q1=0)',updater(p,tables,[0,1],[0,0]))\n",
        "print('P(S=1|Q0=0)',updater(p,tables,[0],[0]))\n",
        "print('P(S=1|Q0=0,Q1=1)',updater(p,tables,[0,1],[0,1]))\n",
        "print('P(S=1|Q1=0)',updater(p,tables,[1],[0]))\n",
        "print('P(S=1|Q1=1)',updater(p,tables,[1],[1]))\n",
        "print('P(S=1|Q0=1,Q1=0)',updater(p,tables,[0,1],[1,0]))\n",
        "print('P(S=1|Q0=1)',updater(p,tables,[0],[1]))\n",
        "print('P(S=1|Q0=1,Q1=1)',updater(p,tables,[0,1],[1,1]))\n",
        "\n",
        "\n",
        "# CREDAL\n",
        "c_p = [0.45 , 0.55] # [lP(S=1),uP(S=1)]\n",
        "c_tables = [ [[0.,0.],[0.,0.]] for _ in range(2)]\n",
        "c_tables[0] = [[0.85, 0.95],[0.25,0.35]] #[[lp(Q=1|S=1),lp(Q=1|S=1)],[lP(Q=1|S=0),uP(Q=1|S=0)]\n",
        "c_tables[1] = [[0.55, 0.65],[0.35,0.45]]\n",
        "\n",
        "print('P(S=1|Q0=0,Q1=0)',c_updater(c_p,c_tables,[0,1],[0,0]))\n",
        "print('P(S=1|Q0=0)',c_updater(c_p,c_tables,[0],[0]))\n",
        "print('P(S=1|Q0=0,Q1=1)',c_updater(c_p,c_tables,[0,1],[0,1]))\n",
        "print('P(S=1|Q1=0)',c_updater(c_p,c_tables,[1],[0]))\n",
        "print('P(S=1|Q1=1)',c_updater(c_p,c_tables,[1],[1]))\n",
        "print('P(S=1|Q0=1,Q1=0)',c_updater(c_p,c_tables,[0,1],[1,0]))\n",
        "print('P(S=1|Q0=1)',c_updater(c_p,c_tables,[0],[1]))\n",
        "print('P(S=1|Q0=1,Q1=1)',c_updater(c_p,c_tables,[0,1],[1,1]))\n",
        "\n",
        "\n",
        "#  t += 1"
      ],
      "execution_count": 28,
      "outputs": [
        {
          "output_type": "stream",
          "text": [
            "P(S=1|Q0=0,Q1=0) [0.08695652 0.91304348]\n",
            "P(S=1|Q0=0) [0.125 0.875]\n",
            "P(S=1|Q0=0,Q1=1) [0.17647059 0.82352941]\n",
            "P(S=1|Q1=0) [0.4 0.6]\n",
            "P(S=1|Q1=1) [0.6 0.4]\n",
            "P(S=1|Q0=1,Q1=0) [0.66666667 0.33333333]\n",
            "P(S=1|Q0=1) [0.75 0.25]\n",
            "P(S=1|Q0=1,Q1=1) [0.81818182 0.18181818]\n",
            "P(S=1|Q0=0,Q1=0) [0.02853260869565219, 0.18749999999999997]\n",
            "P(S=1|Q0=0) [0.051724137931034524, 0.22000000000000003]\n",
            "P(S=1|Q0=0,Q1=1) [0.09198113207547177, 0.25635593220338987]\n",
            "P(S=1|Q1=0) [0.3058252427184466, 0.5]\n",
            "P(S=1|Q1=1) [0.6030927835051547, 0.5990099009900991]\n",
            "P(S=1|Q0=1,Q1=0) [0.6260460251046025, 0.7083333333333334]\n",
            "P(S=1|Q0=1) [0.7566371681415929, 0.748]\n",
            "P(S=1|Q0=1,Q1=1) [0.8523773006134969, 0.7839176829268293]\n"
          ],
          "name": "stdout"
        }
      ]
    },
    {
      "cell_type": "markdown",
      "metadata": {
        "id": "fMhLByU9dVbO"
      },
      "source": [
        "$$P(s|q)=\\frac{P(s)P(q|s)}{P(s)P(q|s) + P(\\neg s)P(q|\\neg s)}=\\frac{P(s)}{P(s) + (1-P(s))\\frac{P(q|\\neg s)}{P(q|s)}}$$\n",
        "\n",
        "$$\\underline{P}(s|q)=\\min_{P(S)} \\frac{P(s)}{P(s)+(1-P(s))\\max_{P(Q|S)} \\frac{P(q|\\neg s)}{P(q|s)}}$$\n",
        "\n",
        "$$\\underline{P}(s|q)=\\min_{P(S)} \\frac{P(s)}{P(s)+(1-P(s)) \\frac{\\overline{P}(q|\\neg s)}{\\underline{P}(q|s)}}$$\n"
      ]
    }
  ]
}